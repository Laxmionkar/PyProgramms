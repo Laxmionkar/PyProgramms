{
 "cells": [
  {
   "cell_type": "code",
   "execution_count": null,
   "id": "8c6400c2",
   "metadata": {},
   "outputs": [],
   "source": [
    "pip install cryptography"
   ]
  },
  {
   "cell_type": "code",
   "execution_count": null,
   "id": "02a989b6",
   "metadata": {},
   "outputs": [],
   "source": [
    "message = \"This is program to explain about reverse cipher text.\"\n",
    "translated = \"\" #this variable for store ciper text\n",
    "i = len(message)-1\n",
    "\n",
    "while i>=0:\n",
    "    translated = translated + message[i]\n",
    "    i = i - 1\n",
    "    print(\"Cipher text is:\",translated)"
   ]
  },
  {
   "cell_type": "code",
   "execution_count": null,
   "id": "028c6779",
   "metadata": {},
   "outputs": [],
   "source": [
    "#The program implementation of Caesar cipher algorithm is as follows −\n",
    "def encrypt(text,s):\n",
    "    result = \"\"\n",
    "   # transverse the plain text\n",
    "    for i in range(len(text)):\n",
    "         char = text[i]\n",
    "      # Encrypt uppercase characters in plain text\n",
    "      \n",
    "    if (char.isupper()):\n",
    "        result += chr((ord(char) + s-65) % 26 + 65)\n",
    "      # Encrypt lowercase characters in plain text\n",
    "    else:\n",
    "        result += chr((ord(char) + s - 97) % 26 + 97)\n",
    "    return result\n"
   ]
  },
  {
   "cell_type": "code",
   "execution_count": null,
   "id": "c3683e7b",
   "metadata": {},
   "outputs": [],
   "source": [
    "def encrypt(text,s):\n",
    "    result=\"\"\n",
    "    for i in range(len(text)):\n",
    "        char = text[i]\n",
    "        \n",
    "        if(char.isupper()):\n",
    "            result+=chr((ord(char)+ s-65)%26 + 65)\n",
    "        else:\n",
    "            result+=chr((ord(char)+s-97) % 26+97)\n",
    "        return result\n",
    "    #check the above function\n",
    "text = \"CEASER CIPHER DEMO\"\n",
    "s = 4\n",
    "\n",
    "print (\"Plain Text : \" + text)\n",
    "print (\"Shift pattern : \" + str(s))\n",
    "print (\"Cipher: \" + encrypt(text,s))\n"
   ]
  },
  {
   "cell_type": "code",
   "execution_count": null,
   "id": "b5ca3527",
   "metadata": {},
   "outputs": [],
   "source": [
    "#Hacking of Caesar Cipher Algorithm\n",
    "message = 'GIEWIVrGMTLIVrHIQS' #encrypted message\n",
    "LETTERS = 'ABCDEFGHIJKLMNOPQRSTUVWXYZ'\n",
    "\n",
    "for key in range(len(LETTERS)):\n",
    "    translated = ''\n",
    "for symbol in message:\n",
    "      if symbol in LETTERS:\n",
    "            num = LETTERS.find(symbol)\n",
    "            num = num - key\n",
    "    if num < 0:\n",
    "            num = num + len(LETTERS)\n",
    "            translated = translated + LETTERS[num]\n",
    "        else:\n",
    "            translated = translated + symbol\n",
    "            print('Hacking key #%s: %s' % (key, translated))\n"
   ]
  },
  {
   "cell_type": "code",
   "execution_count": null,
   "id": "44ae6019",
   "metadata": {},
   "outputs": [],
   "source": []
  },
  {
   "cell_type": "code",
   "execution_count": null,
   "id": "2a433992",
   "metadata": {},
   "outputs": [],
   "source": [
    "#The program implementation of ROT13 algorithm is as follows −\n",
    "from string import maketrans\n",
    "\n",
    "rot13trans = maketrans('ABCDEFGHIJKLMNOPQRSTUVWXYZabcdefghijklmnopqrstuvwxyz','NOPQRSTUVWXYZABCDEFGHIJKLMnopqrstuvwxyzabcdefghijklm')\n",
    "\n",
    "# Function to translate plain text\n",
    "def rot13(text):\n",
    "    return text.translate(rot13trans)\n",
    "def main():\n",
    "    txt = \"ROT13 Algorithm\"\n",
    "    print (rot13(txt))\n",
    "\n",
    "if __name__ == \"__main__\":\n",
    "    main()\n"
   ]
  },
  {
   "cell_type": "code",
   "execution_count": null,
   "id": "058e6f49",
   "metadata": {},
   "outputs": [],
   "source": [
    "pip install maketrans"
   ]
  },
  {
   "cell_type": "code",
   "execution_count": null,
   "id": "bcafaec6",
   "metadata": {},
   "outputs": [],
   "source": [
    "from string import maketrans\n",
    "\n",
    "rot13trans = maketrans(\"ABCDEFGHIJKLMNOPQRSTUVWXYZabcdefghijklmnopqrstuvwxyz\",\"NOPQRSTUVWXYZABCDEFGHIJKLMnopqrstuvwxyzabcdefghijklm\")\n",
    "\n",
    "def rot13(text):\n",
    "    return text.translate(rot13trans)\n",
    "\n",
    "def main():\n",
    "    txt = \"ROT13Algorithm\"\n",
    "    print (rot13(txt))\n",
    "    \n",
    "if __name__ == \"__main__\":\n",
    "    main()"
   ]
  },
  {
   "cell_type": "code",
   "execution_count": null,
   "id": "e7319517",
   "metadata": {},
   "outputs": [],
   "source": [
    "pip install pyperclip"
   ]
  },
  {
   "cell_type": "code",
   "execution_count": null,
   "id": "a2acfdda",
   "metadata": {},
   "outputs": [],
   "source": [
    "#The following program code demonstrates the basic implementation of columnar transposition technique \n",
    "def split_len(seq, length):\n",
    "    return [seq[i:i + length] for i in range(0, len(seq), length)]\n",
    "def encode(key, plaintext):\n",
    "    order = {int(val): num for num, val in enumerate(key)}\n",
    "    ciphertext = ''\n",
    "\n",
    "    for index in sorted(order.keys()):\n",
    "        for part in split_len(plaintext, len(key)):\n",
    "            try:ciphertext += part[order[index]]\n",
    "            except IndexError:\n",
    "                continue\n",
    "    return ciphertext\n",
    "print(encode('3214', 'HELLO'))"
   ]
  },
  {
   "cell_type": "code",
   "execution_count": null,
   "id": "943e5baf",
   "metadata": {},
   "outputs": [],
   "source": [
    "#The python code for encrypting transposition cipher in which pyperclip is the main module is as shown below \n",
    "import pyperclip\n",
    "def main():\n",
    "    myMessage = 'Transposition Cipher'\n",
    "    myKey = 10\n",
    "    ciphertext = encryptMessage(myKey, myMessage)\n",
    "    print(\"Cipher Text is\")\n",
    "    print(ciphertext + '|')\n",
    "    pyperclip.copy(ciphertext)\n",
    "\n",
    "def encryptMessage(key, message):\n",
    "    ciphertext = [''] * key\n",
    "   \n",
    "    for col in range(key):\n",
    "        position = col\n",
    "        while position < len(message):\n",
    "            ciphertext[col] += message[position]\n",
    "            position += key\n",
    "    return ''.join(ciphertext) #Cipher text\n",
    "if __name__ == '__main__':\n",
    "    main()"
   ]
  },
  {
   "cell_type": "code",
   "execution_count": null,
   "id": "ed44826e",
   "metadata": {},
   "outputs": [],
   "source": [
    "import pyperclip\n",
    "def main():\n",
    "    mymessage = \"Transposition cipher\"\n",
    "    mykey = 10\n",
    "    ciphertext = encryptMessage(mykey,mymessage)\n",
    "    print(\"Cipher text is\")\n",
    "    print(ciphertext + '!')\n",
    "    pyperclip.copy(ciphertext)\n",
    "    \n",
    "def encryptMessage(key,message):\n",
    "    ciphertext = ['']*key\n",
    "\n",
    "    for col in range(key):\n",
    "        position = col\n",
    "        while position < len(message):\n",
    "            ciphertext[col]+=message[position]\n",
    "            position+=key\n",
    "\n",
    "    return''.join(ciphertext)#cipher text\n",
    "\n",
    "if __name__ == '__main__':\n",
    "    main()"
   ]
  },
  {
   "cell_type": "code",
   "execution_count": 4,
   "id": "e9dc49ac",
   "metadata": {},
   "outputs": [
    {
     "name": "stdout",
     "output_type": "stream",
     "text": [
      "larpt huontsincqcm nsoeiuraoitne\n"
     ]
    }
   ],
   "source": [
    "#the following program code demonstrates the basic implementation of columnar transpisition technique\n",
    "def split_len(seq,length):\n",
    "    return [seq[i:i+length] for i in range(0,len(seq),length)]\n",
    "\n",
    "def encode(key,plaintext):\n",
    "    order = {int(val):num for num,val in enumerate(key)}\n",
    "    ciphertext = ''\n",
    "\n",
    "    for index in sorted(order.keys()):\n",
    "        for part in split_len(plaintext,len(key)):\n",
    "            try:ciphertext+=part[order[index]]\n",
    "            except IndexError:\n",
    "                continue\n",
    "    return ciphertext\n",
    "print(encode('3214','columnar transposition technique'))            "
   ]
  },
  {
   "cell_type": "code",
   "execution_count": 3,
   "id": "3090294e",
   "metadata": {},
   "outputs": [
    {
     "ename": "ValueError",
     "evalue": "could not convert string to float: ''",
     "output_type": "error",
     "traceback": [
      "\u001b[1;31m---------------------------------------------------------------------------\u001b[0m",
      "\u001b[1;31mValueError\u001b[0m                                Traceback (most recent call last)",
      "Input \u001b[1;32mIn [3]\u001b[0m, in \u001b[0;36m<cell line: 25>\u001b[1;34m()\u001b[0m\n\u001b[0;32m     24\u001b[0m     \u001b[38;5;28;01mreturn\u001b[39;00m\u001b[38;5;124m'\u001b[39m\u001b[38;5;124m'\u001b[39m\u001b[38;5;241m.\u001b[39mjoin(plaintext)\n\u001b[0;32m     25\u001b[0m \u001b[38;5;28;01mif\u001b[39;00m \u001b[38;5;18m__name__\u001b[39m \u001b[38;5;241m==\u001b[39m \u001b[38;5;124m\"\u001b[39m\u001b[38;5;124m__main__\u001b[39m\u001b[38;5;124m\"\u001b[39m:\n\u001b[1;32m---> 26\u001b[0m     \u001b[43mmain\u001b[49m\u001b[43m(\u001b[49m\u001b[43m)\u001b[49m\n",
      "Input \u001b[1;32mIn [3]\u001b[0m, in \u001b[0;36mmain\u001b[1;34m()\u001b[0m\n\u001b[0;32m      4\u001b[0m mymessage \u001b[38;5;241m=\u001b[39m \u001b[38;5;124m\"\u001b[39m\u001b[38;5;124mToners raiCntisippoh\u001b[39m\u001b[38;5;124m\"\u001b[39m\n\u001b[0;32m      5\u001b[0m mykey \u001b[38;5;241m=\u001b[39m \u001b[38;5;241m6\u001b[39m\n\u001b[1;32m----> 6\u001b[0m plaintext \u001b[38;5;241m=\u001b[39m \u001b[43mdecryptMessage\u001b[49m\u001b[43m(\u001b[49m\u001b[43mmykey\u001b[49m\u001b[43m,\u001b[49m\u001b[43mmymessage\u001b[49m\u001b[43m)\u001b[49m\n\u001b[0;32m      7\u001b[0m \u001b[38;5;28mprint\u001b[39m(\u001b[38;5;124m'\u001b[39m\u001b[38;5;124mThe plain text is:\u001b[39m\u001b[38;5;124m'\u001b[39m)\n\u001b[0;32m      8\u001b[0m \u001b[38;5;28mprint\u001b[39m(\u001b[38;5;124m\"\u001b[39m\u001b[38;5;124mtransposition Cipher\u001b[39m\u001b[38;5;124m\"\u001b[39m)\n",
      "Input \u001b[1;32mIn [3]\u001b[0m, in \u001b[0;36mdecryptMessage\u001b[1;34m(key, message)\u001b[0m\n\u001b[0;32m     12\u001b[0m numOfRows \u001b[38;5;241m=\u001b[39m key\n\u001b[0;32m     13\u001b[0m numOfShadedBoxes \u001b[38;5;241m=\u001b[39m (numOfColumns \u001b[38;5;241m*\u001b[39m numOfRows) \u001b[38;5;241m-\u001b[39m \u001b[38;5;28mlen\u001b[39m(message)\n\u001b[1;32m---> 14\u001b[0m plaintext \u001b[38;5;241m=\u001b[39m \u001b[38;5;28;43mfloat\u001b[39;49m\u001b[43m(\u001b[49m\u001b[38;5;124;43m'\u001b[39;49m\u001b[38;5;124;43m'\u001b[39;49m\u001b[43m)\u001b[49m\u001b[38;5;241m*\u001b[39mnumOfColumns\n\u001b[0;32m     15\u001b[0m col \u001b[38;5;241m=\u001b[39m \u001b[38;5;241m0\u001b[39m\n\u001b[0;32m     16\u001b[0m row \u001b[38;5;241m=\u001b[39m \u001b[38;5;241m0\u001b[39m\n",
      "\u001b[1;31mValueError\u001b[0m: could not convert string to float: ''"
     ]
    }
   ],
   "source": [
    "#decryption of transposition cipher\n",
    "import math,pyperclip\n",
    "def main():\n",
    "    mymessage = \"Toners raiCntisippoh\"\n",
    "    mykey = 6\n",
    "    plaintext = decryptMessage(mykey,mymessage)\n",
    "    print('The plain text is:')\n",
    "    print(\"transposition Cipher\")\n",
    "\n",
    "def decryptMessage(key,message):\n",
    "    numOfColumns = math.ceil(len(message)/key)\n",
    "    numOfRows = key\n",
    "    numOfShadedBoxes = (numOfColumns * numOfRows) - len(message)\n",
    "    plaintext = float('')*numOfColumns\n",
    "    col = 0\n",
    "    row = 0\n",
    "\n",
    "    for symbol in message:\n",
    "        plaintext[col] += symbol\n",
    "        col+=1\n",
    "        if (col == numOfColumns) or (col == numOfColumns-1 and row >= numOfRows - numOfShadedBoxes):\n",
    "            col = 0\n",
    "            row += 1\n",
    "    return''.join(plaintext)\n",
    "if __name__ == \"__main__\":\n",
    "    main()"
   ]
  },
  {
   "cell_type": "code",
   "execution_count": 5,
   "id": "642adcba",
   "metadata": {},
   "outputs": [
    {
     "ename": "ModuleNotFoundError",
     "evalue": "No module named 'toolkit'",
     "output_type": "error",
     "traceback": [
      "\u001b[1;31m---------------------------------------------------------------------------\u001b[0m",
      "\u001b[1;31mModuleNotFoundError\u001b[0m                       Traceback (most recent call last)",
      "Input \u001b[1;32mIn [5]\u001b[0m, in \u001b[0;36m<cell line: 10>\u001b[1;34m()\u001b[0m\n\u001b[0;32m      7\u001b[0m \u001b[38;5;66;03m# ====================================================\u001b[39;00m\n\u001b[0;32m      8\u001b[0m \u001b[38;5;66;03m# Import Modules\u001b[39;00m\n\u001b[0;32m      9\u001b[0m \u001b[38;5;28;01mimport\u001b[39;00m \u001b[38;5;21;01moptparse\u001b[39;00m\u001b[38;5;241m,\u001b[39m \u001b[38;5;21;01msys\u001b[39;00m\u001b[38;5;241m,\u001b[39m\u001b[38;5;21;01mos\u001b[39;00m\n\u001b[1;32m---> 10\u001b[0m \u001b[38;5;28;01mfrom\u001b[39;00m \u001b[38;5;21;01mtoolkit\u001b[39;00m \u001b[38;5;28;01mimport\u001b[39;00m processor \u001b[38;5;28;01mas\u001b[39;00m ps\n\u001b[0;32m     11\u001b[0m \u001b[38;5;28;01mdef\u001b[39;00m \u001b[38;5;21mmain\u001b[39m():\n\u001b[0;32m     12\u001b[0m     parser \u001b[38;5;241m=\u001b[39m optparse\u001b[38;5;241m.\u001b[39mOptionParser(usage \u001b[38;5;241m=\u001b[39m usage,version \u001b[38;5;241m=\u001b[39m Version)\n",
      "\u001b[1;31mModuleNotFoundError\u001b[0m: No module named 'toolkit'"
     ]
    }
   ],
   "source": [
    "#The program code for encrypting the file with password protector is mentioned below \n",
    "# =================Other Configuration================\n",
    "# Usages :\n",
    "usage = \"usage: %prog [options] \"\n",
    "# Version\n",
    "Version=\"%prog 0.0.1\"\n",
    "# ====================================================\n",
    "# Import Modules\n",
    "import optparse, sys,os\n",
    "from toolkit import processor as ps\n",
    "def main():\n",
    "    parser = optparse.OptionParser(usage = usage,version = Version)\n",
    "    parser.add_option('-i','--input',type = 'string',dest = 'inputfile',help = \"File Input Path For Encryption\", default = None)\n",
    "   \n",
    "    parser.add_option('-o','--output',type = \"string\",dest = 'outputfile',\n",
    "                    help = \"File Output Path For Saving Encrypter Cipher\",default = \".\")\n",
    "\n",
    "    parser.add_option('-p','--password',type = \"string\",dest = 'password',\n",
    "                     help = \"Provide Password For Encrypting File\",default = None)\n",
    "\n",
    "    parser.add_option('-p','--password',type = \"string\",dest = 'password',\n",
    "                      help = \"Provide Password For Encrypting File\",default = None)\n",
    "\n",
    "    (options, args)= parser.parse_args()\n",
    "\n",
    "   # Input Conditions Checkings\n",
    "    if not options.inputfile or not os.path.isfile(options.inputfile):\n",
    "        print (\" [Error] Please Specify Input File Path\")\n",
    "        exit(0)\n",
    "    if not options.outputfile or not os.path.isdir(options.outputfile):\n",
    "        print (\" [Error] Please Specify Output Path\")\n",
    "        exit(0)\n",
    "    if not options.password:\n",
    "        print (\" [Error] No Password Input\")\n",
    "        exit(0)\n",
    "    inputfile = options.inputfile\n",
    "    outputfile = os.path.join(options.outputfile,os.path.basename(options.inputfile).split('.')[0]+'.ssb')\n",
    "    password = options.password\n",
    "    base = os.path.basename(inputfile).split('.')[1]\n",
    "    work = \"E\"\n",
    "\n",
    "    ps.FileCipher(inputfile,outputfile,password,work)\n",
    "    return\n",
    "\n",
    "if __name__ == '__main__':\n",
    "    main()\n"
   ]
  },
  {
   "cell_type": "code",
   "execution_count": 2,
   "id": "cb3f603d",
   "metadata": {},
   "outputs": [
    {
     "name": "stdout",
     "output_type": "stream",
     "text": [
      "Collecting toolkit\n",
      "  Using cached toolkit-0.0.3.tar.gz (5.3 kB)\n",
      "  Using cached toolkit-0.0.2.tar.gz (5.0 kB)\n",
      "  Using cached toolkit-0.0.1.tar.gz (4.8 kB)\n",
      "Note: you may need to restart the kernel to use updated packages.\n"
     ]
    },
    {
     "name": "stderr",
     "output_type": "stream",
     "text": [
      "    ERROR: Command errored out with exit status 1:\n",
      "     command: 'C:\\Users\\pinka\\anaconda3\\python.exe' -c 'import io, os, sys, setuptools, tokenize; sys.argv[0] = '\"'\"'C:\\\\Users\\\\pinka\\\\AppData\\\\Local\\\\Temp\\\\pip-install-2y115d74\\\\toolkit_9cd36d1e7bc64720a30aa64bacf04b93\\\\setup.py'\"'\"'; __file__='\"'\"'C:\\\\Users\\\\pinka\\\\AppData\\\\Local\\\\Temp\\\\pip-install-2y115d74\\\\toolkit_9cd36d1e7bc64720a30aa64bacf04b93\\\\setup.py'\"'\"';f = getattr(tokenize, '\"'\"'open'\"'\"', open)(__file__) if os.path.exists(__file__) else io.StringIO('\"'\"'from setuptools import setup; setup()'\"'\"');code = f.read().replace('\"'\"'\\r\\n'\"'\"', '\"'\"'\\n'\"'\"');f.close();exec(compile(code, __file__, '\"'\"'exec'\"'\"'))' egg_info --egg-base 'C:\\Users\\pinka\\AppData\\Local\\Temp\\pip-pip-egg-info-0q1jt39w'\n",
      "         cwd: C:\\Users\\pinka\\AppData\\Local\\Temp\\pip-install-2y115d74\\toolkit_9cd36d1e7bc64720a30aa64bacf04b93\\\n",
      "    Complete output (5 lines):\n",
      "    Traceback (most recent call last):\n",
      "      File \"<string>\", line 1, in <module>\n",
      "      File \"C:\\Users\\pinka\\AppData\\Local\\Temp\\pip-install-2y115d74\\toolkit_9cd36d1e7bc64720a30aa64bacf04b93\\setup.py\", line 32, in <module>\n",
      "        install_requires=open('requirements.txt').readlines(),\n",
      "    FileNotFoundError: [Errno 2] No such file or directory: 'requirements.txt'\n",
      "    ----------------------------------------\n",
      "WARNING: Discarding https://files.pythonhosted.org/packages/f4/cc/6a54ee0b81cc2de4c664502b86899a05dd2059d3d4ee36fc9624df4576f3/toolkit-0.0.3.tar.gz#sha256=b76f805501cb62b88de6ae42de162a6f1599202f647cdb246de5ef2d89e5b9b5 (from https://pypi.org/simple/toolkit/). Command errored out with exit status 1: python setup.py egg_info Check the logs for full command output.\n",
      "    ERROR: Command errored out with exit status 1:\n",
      "     command: 'C:\\Users\\pinka\\anaconda3\\python.exe' -c 'import io, os, sys, setuptools, tokenize; sys.argv[0] = '\"'\"'C:\\\\Users\\\\pinka\\\\AppData\\\\Local\\\\Temp\\\\pip-install-2y115d74\\\\toolkit_93e2757f30794cc3a1bef52cca23ae9f\\\\setup.py'\"'\"'; __file__='\"'\"'C:\\\\Users\\\\pinka\\\\AppData\\\\Local\\\\Temp\\\\pip-install-2y115d74\\\\toolkit_93e2757f30794cc3a1bef52cca23ae9f\\\\setup.py'\"'\"';f = getattr(tokenize, '\"'\"'open'\"'\"', open)(__file__) if os.path.exists(__file__) else io.StringIO('\"'\"'from setuptools import setup; setup()'\"'\"');code = f.read().replace('\"'\"'\\r\\n'\"'\"', '\"'\"'\\n'\"'\"');f.close();exec(compile(code, __file__, '\"'\"'exec'\"'\"'))' egg_info --egg-base 'C:\\Users\\pinka\\AppData\\Local\\Temp\\pip-pip-egg-info-n2ufqmok'\n",
      "         cwd: C:\\Users\\pinka\\AppData\\Local\\Temp\\pip-install-2y115d74\\toolkit_93e2757f30794cc3a1bef52cca23ae9f\\\n",
      "    Complete output (5 lines):\n",
      "    Traceback (most recent call last):\n",
      "      File \"<string>\", line 1, in <module>\n",
      "      File \"C:\\Users\\pinka\\AppData\\Local\\Temp\\pip-install-2y115d74\\toolkit_93e2757f30794cc3a1bef52cca23ae9f\\setup.py\", line 32, in <module>\n",
      "        install_requires=open('requirements.txt').readlines(),\n",
      "    FileNotFoundError: [Errno 2] No such file or directory: 'requirements.txt'\n",
      "    ----------------------------------------\n",
      "WARNING: Discarding https://files.pythonhosted.org/packages/62/af/f0b75a027fc85eccf9726b11ebd0a806c7cc191ec98ab267ed191497c0a0/toolkit-0.0.2.tar.gz#sha256=fa2978cf3221fa8a4a9e4f0c0098df587858834471d148a8c9b2d4eb4eb2590a (from https://pypi.org/simple/toolkit/). Command errored out with exit status 1: python setup.py egg_info Check the logs for full command output.\n",
      "    ERROR: Command errored out with exit status 1:\n",
      "     command: 'C:\\Users\\pinka\\anaconda3\\python.exe' -c 'import io, os, sys, setuptools, tokenize; sys.argv[0] = '\"'\"'C:\\\\Users\\\\pinka\\\\AppData\\\\Local\\\\Temp\\\\pip-install-2y115d74\\\\toolkit_de6a63c54904434195b084fbf2685870\\\\setup.py'\"'\"'; __file__='\"'\"'C:\\\\Users\\\\pinka\\\\AppData\\\\Local\\\\Temp\\\\pip-install-2y115d74\\\\toolkit_de6a63c54904434195b084fbf2685870\\\\setup.py'\"'\"';f = getattr(tokenize, '\"'\"'open'\"'\"', open)(__file__) if os.path.exists(__file__) else io.StringIO('\"'\"'from setuptools import setup; setup()'\"'\"');code = f.read().replace('\"'\"'\\r\\n'\"'\"', '\"'\"'\\n'\"'\"');f.close();exec(compile(code, __file__, '\"'\"'exec'\"'\"'))' egg_info --egg-base 'C:\\Users\\pinka\\AppData\\Local\\Temp\\pip-pip-egg-info-vb0o3jeb'\n",
      "         cwd: C:\\Users\\pinka\\AppData\\Local\\Temp\\pip-install-2y115d74\\toolkit_de6a63c54904434195b084fbf2685870\\\n",
      "    Complete output (5 lines):\n",
      "    Traceback (most recent call last):\n",
      "      File \"<string>\", line 1, in <module>\n",
      "      File \"C:\\Users\\pinka\\AppData\\Local\\Temp\\pip-install-2y115d74\\toolkit_de6a63c54904434195b084fbf2685870\\setup.py\", line 32, in <module>\n",
      "        install_requires=open('requirements.txt').readlines(),\n",
      "    FileNotFoundError: [Errno 2] No such file or directory: 'requirements.txt'\n",
      "    ----------------------------------------\n",
      "WARNING: Discarding https://files.pythonhosted.org/packages/a7/cf/71b975ec087a14bc8de8a8bd7c06c154456b93e55be06e9a07c45b927558/toolkit-0.0.1.tar.gz#sha256=4f1b0e0404141c2105e3b74b4505f54948127beea7f61bc3f6e4d0dcd5ca6668 (from https://pypi.org/simple/toolkit/). Command errored out with exit status 1: python setup.py egg_info Check the logs for full command output.\n",
      "ERROR: Could not find a version that satisfies the requirement toolkit (from versions: 0.0.1, 0.0.2, 0.0.3)\n",
      "ERROR: No matching distribution found for toolkit\n"
     ]
    }
   ],
   "source": [
    "pip install toolkit"
   ]
  },
  {
   "cell_type": "code",
   "execution_count": 1,
   "id": "7e39927e",
   "metadata": {},
   "outputs": [
    {
     "ename": "ModuleNotFoundError",
     "evalue": "No module named 'toolkit'",
     "output_type": "error",
     "traceback": [
      "\u001b[1;31m---------------------------------------------------------------------------\u001b[0m",
      "\u001b[1;31mModuleNotFoundError\u001b[0m                       Traceback (most recent call last)",
      "Input \u001b[1;32mIn [1]\u001b[0m, in \u001b[0;36m<cell line: 23>\u001b[1;34m()\u001b[0m\n\u001b[0;32m     20\u001b[0m \u001b[38;5;66;03m# ====================================================\u001b[39;00m\n\u001b[0;32m     21\u001b[0m \u001b[38;5;66;03m# Import Modules\u001b[39;00m\n\u001b[0;32m     22\u001b[0m \u001b[38;5;28;01mimport\u001b[39;00m \u001b[38;5;21;01moptparse\u001b[39;00m\u001b[38;5;241m,\u001b[39m \u001b[38;5;21;01msys\u001b[39;00m\u001b[38;5;241m,\u001b[39m\u001b[38;5;21;01mos\u001b[39;00m\n\u001b[1;32m---> 23\u001b[0m \u001b[38;5;28;01mfrom\u001b[39;00m \u001b[38;5;21;01mtoolkit\u001b[39;00m \u001b[38;5;28;01mimport\u001b[39;00m processor \u001b[38;5;28;01mas\u001b[39;00m ps\n\u001b[0;32m     24\u001b[0m \u001b[38;5;28;01mdef\u001b[39;00m \u001b[38;5;21mmain\u001b[39m():\n\u001b[0;32m     25\u001b[0m     parser \u001b[38;5;241m=\u001b[39m optparse\u001b[38;5;241m.\u001b[39mOptionParser(usage \u001b[38;5;241m=\u001b[39m usage,version \u001b[38;5;241m=\u001b[39m Version)\n",
      "\u001b[1;31mModuleNotFoundError\u001b[0m: No module named 'toolkit'"
     ]
    }
   ],
   "source": [
    "#The following is a sample code for decrypting files in cryptography using Python −\n",
    "#!/usr/bin/python\n",
    "# ---------------- READ ME ---------------------------------------------\n",
    "# This Script is Created Only For Practise And Educational Purpose Only\n",
    "# This Script Is Created For http://bitforestinfo.blogspot.in\n",
    "# This Script is Written By\n",
    "#\n",
    "#\n",
    "##################################################\n",
    "######## Please Don't Remove Author Name #########\n",
    "############### Thanks ###########################\n",
    "##################################################\n",
    "#\n",
    "#\n",
    "# =================Other Configuration================\n",
    "# Usages :\n",
    "usage = \"usage: %prog [options] \"\n",
    "# Version\n",
    "Version=\"%prog 0.0.1\"\n",
    "# ====================================================\n",
    "# Import Modules\n",
    "import optparse, sys,os\n",
    "from toolkit import processor as ps\n",
    "def main():\n",
    "    parser = optparse.OptionParser(usage = usage,version = Version)\n",
    "    parser.add_option('-i','--input',type = 'string',dest = 'inputfile',help = \"File Input Path For Encryption\", default = None)\n",
    "   \n",
    "    parser.add_option('-o','--output',type = \"string\",dest = 'outputfile',help = \"File Output Path For Saving Encrypter Cipher\",default = \".\")\n",
    "   \n",
    "    parser.add_option('-p','--password',type = \"string\",dest = 'password',help = \"Provide Password For Encrypting File\",default = None)\n",
    "    (options, args) =  parser.parse_args()\n",
    "      # Input Conditions Checkings\n",
    "    if not options.inputfile or not os.path.isfile(options.inputfile):\n",
    "            print (\" [Error] Please Specify Input File Path\")\n",
    "            exit(0)\n",
    "    if not options.outputfile or not os.path.isdir(options.outputfile):\n",
    "            print (\"[Error] Please Specify Output Path\")\n",
    "            exit(0)\n",
    "    if not options.password:\n",
    "            print (\" [Error] No\")\n",
    "            exit(0)\n",
    "    inputfile = options.inputfile\n",
    "    outputfile = options.outputfile\n",
    "    password = options.password\n",
    "    work = \"D\"\n",
    "    ps.FileCipher(inputfile,outputfile,password,work)\n",
    "    return\n",
    "if __name__ == '__main__':\n",
    "    main()\n"
   ]
  },
  {
   "cell_type": "code",
   "execution_count": 6,
   "id": "5af1a36d",
   "metadata": {},
   "outputs": [
    {
     "ename": "TypeError",
     "evalue": "a bytes-like object is required, not 'str'",
     "output_type": "error",
     "traceback": [
      "\u001b[1;31m---------------------------------------------------------------------------\u001b[0m",
      "\u001b[1;31mTypeError\u001b[0m                                 Traceback (most recent call last)",
      "Input \u001b[1;32mIn [6]\u001b[0m, in \u001b[0;36m<cell line: 3>\u001b[1;34m()\u001b[0m\n\u001b[0;32m      1\u001b[0m \u001b[38;5;66;03m#following piece of code to perform base64 encoding \u001b[39;00m\n\u001b[0;32m      2\u001b[0m \u001b[38;5;28;01mimport\u001b[39;00m \u001b[38;5;21;01mbase64\u001b[39;00m\n\u001b[1;32m----> 3\u001b[0m encoded_data \u001b[38;5;241m=\u001b[39m \u001b[43mbase64\u001b[49m\u001b[38;5;241;43m.\u001b[39;49m\u001b[43mb64encode\u001b[49m\u001b[43m(\u001b[49m\u001b[38;5;124;43m\"\u001b[39;49m\u001b[38;5;124;43mEncode this text\u001b[39;49m\u001b[38;5;124;43m\"\u001b[39;49m\u001b[43m)\u001b[49m\n\u001b[0;32m      4\u001b[0m \u001b[38;5;28mprint\u001b[39m(\u001b[38;5;124m\"\u001b[39m\u001b[38;5;124mEncoded text with base 64 is\u001b[39m\u001b[38;5;124m\"\u001b[39m)\n\u001b[0;32m      5\u001b[0m \u001b[38;5;28mprint\u001b[39m(encoded_data)\n",
      "File \u001b[1;32m~\\anaconda3\\lib\\base64.py:58\u001b[0m, in \u001b[0;36mb64encode\u001b[1;34m(s, altchars)\u001b[0m\n\u001b[0;32m     51\u001b[0m \u001b[38;5;28;01mdef\u001b[39;00m \u001b[38;5;21mb64encode\u001b[39m(s, altchars\u001b[38;5;241m=\u001b[39m\u001b[38;5;28;01mNone\u001b[39;00m):\n\u001b[0;32m     52\u001b[0m     \u001b[38;5;124;03m\"\"\"Encode the bytes-like object s using Base64 and return a bytes object.\u001b[39;00m\n\u001b[0;32m     53\u001b[0m \n\u001b[0;32m     54\u001b[0m \u001b[38;5;124;03m    Optional altchars should be a byte string of length 2 which specifies an\u001b[39;00m\n\u001b[0;32m     55\u001b[0m \u001b[38;5;124;03m    alternative alphabet for the '+' and '/' characters.  This allows an\u001b[39;00m\n\u001b[0;32m     56\u001b[0m \u001b[38;5;124;03m    application to e.g. generate url or filesystem safe Base64 strings.\u001b[39;00m\n\u001b[0;32m     57\u001b[0m \u001b[38;5;124;03m    \"\"\"\u001b[39;00m\n\u001b[1;32m---> 58\u001b[0m     encoded \u001b[38;5;241m=\u001b[39m \u001b[43mbinascii\u001b[49m\u001b[38;5;241;43m.\u001b[39;49m\u001b[43mb2a_base64\u001b[49m\u001b[43m(\u001b[49m\u001b[43ms\u001b[49m\u001b[43m,\u001b[49m\u001b[43m \u001b[49m\u001b[43mnewline\u001b[49m\u001b[38;5;241;43m=\u001b[39;49m\u001b[38;5;28;43;01mFalse\u001b[39;49;00m\u001b[43m)\u001b[49m\n\u001b[0;32m     59\u001b[0m     \u001b[38;5;28;01mif\u001b[39;00m altchars \u001b[38;5;129;01mis\u001b[39;00m \u001b[38;5;129;01mnot\u001b[39;00m \u001b[38;5;28;01mNone\u001b[39;00m:\n\u001b[0;32m     60\u001b[0m         \u001b[38;5;28;01massert\u001b[39;00m \u001b[38;5;28mlen\u001b[39m(altchars) \u001b[38;5;241m==\u001b[39m \u001b[38;5;241m2\u001b[39m, \u001b[38;5;28mrepr\u001b[39m(altchars)\n",
      "\u001b[1;31mTypeError\u001b[0m: a bytes-like object is required, not 'str'"
     ]
    }
   ],
   "source": [
    "#following piece of code to perform base64 encoding \n",
    "import base64\n",
    "encoded_data = base64.b64encode(\"Encode this text\")\n",
    "print(\"Encoded text with base 64 is\")\n",
    "print(encoded_data)"
   ]
  },
  {
   "cell_type": "code",
   "execution_count": 7,
   "id": "e43a0564",
   "metadata": {},
   "outputs": [
    {
     "name": "stdout",
     "output_type": "stream",
     "text": [
      "decoded text is \n",
      "b'Encode this text'\n"
     ]
    }
   ],
   "source": [
    "#following piece of code to perform base64 decoding −\n",
    "import base64\n",
    "decoded_data = base64.b64decode(\"RW5jb2RlIHRoaXMgdGV4dA==\")\n",
    "\n",
    "print(\"decoded text is \")\n",
    "print(decoded_data)"
   ]
  },
  {
   "cell_type": "code",
   "execution_count": 8,
   "id": "657ee97e",
   "metadata": {},
   "outputs": [
    {
     "ename": "TypeError",
     "evalue": "a bytes-like object is required, not 'str'",
     "output_type": "error",
     "traceback": [
      "\u001b[1;31m---------------------------------------------------------------------------\u001b[0m",
      "\u001b[1;31mTypeError\u001b[0m                                 Traceback (most recent call last)",
      "Input \u001b[1;32mIn [8]\u001b[0m, in \u001b[0;36m<cell line: 2>\u001b[1;34m()\u001b[0m\n\u001b[0;32m      1\u001b[0m \u001b[38;5;28;01mimport\u001b[39;00m \u001b[38;5;21;01mbase64\u001b[39;00m\n\u001b[1;32m----> 2\u001b[0m encoded_data \u001b[38;5;241m=\u001b[39m \u001b[43mbase64\u001b[49m\u001b[38;5;241;43m.\u001b[39;49m\u001b[43mb64encode\u001b[49m\u001b[43m(\u001b[49m\u001b[38;5;124;43m\"\u001b[39;49m\u001b[38;5;124;43mlakshi onkar\u001b[39;49m\u001b[38;5;124;43m\"\u001b[39;49m\u001b[43m)\u001b[49m\n\u001b[0;32m      4\u001b[0m \u001b[38;5;28mprint\u001b[39m(\u001b[38;5;124m\"\u001b[39m\u001b[38;5;124mencoded text with base64 is\u001b[39m\u001b[38;5;124m\"\u001b[39m)\n\u001b[0;32m      5\u001b[0m \u001b[38;5;28mprint\u001b[39m(encoded_data)\n",
      "File \u001b[1;32m~\\anaconda3\\lib\\base64.py:58\u001b[0m, in \u001b[0;36mb64encode\u001b[1;34m(s, altchars)\u001b[0m\n\u001b[0;32m     51\u001b[0m \u001b[38;5;28;01mdef\u001b[39;00m \u001b[38;5;21mb64encode\u001b[39m(s, altchars\u001b[38;5;241m=\u001b[39m\u001b[38;5;28;01mNone\u001b[39;00m):\n\u001b[0;32m     52\u001b[0m     \u001b[38;5;124;03m\"\"\"Encode the bytes-like object s using Base64 and return a bytes object.\u001b[39;00m\n\u001b[0;32m     53\u001b[0m \n\u001b[0;32m     54\u001b[0m \u001b[38;5;124;03m    Optional altchars should be a byte string of length 2 which specifies an\u001b[39;00m\n\u001b[0;32m     55\u001b[0m \u001b[38;5;124;03m    alternative alphabet for the '+' and '/' characters.  This allows an\u001b[39;00m\n\u001b[0;32m     56\u001b[0m \u001b[38;5;124;03m    application to e.g. generate url or filesystem safe Base64 strings.\u001b[39;00m\n\u001b[0;32m     57\u001b[0m \u001b[38;5;124;03m    \"\"\"\u001b[39;00m\n\u001b[1;32m---> 58\u001b[0m     encoded \u001b[38;5;241m=\u001b[39m \u001b[43mbinascii\u001b[49m\u001b[38;5;241;43m.\u001b[39;49m\u001b[43mb2a_base64\u001b[49m\u001b[43m(\u001b[49m\u001b[43ms\u001b[49m\u001b[43m,\u001b[49m\u001b[43m \u001b[49m\u001b[43mnewline\u001b[49m\u001b[38;5;241;43m=\u001b[39;49m\u001b[38;5;28;43;01mFalse\u001b[39;49;00m\u001b[43m)\u001b[49m\n\u001b[0;32m     59\u001b[0m     \u001b[38;5;28;01mif\u001b[39;00m altchars \u001b[38;5;129;01mis\u001b[39;00m \u001b[38;5;129;01mnot\u001b[39;00m \u001b[38;5;28;01mNone\u001b[39;00m:\n\u001b[0;32m     60\u001b[0m         \u001b[38;5;28;01massert\u001b[39;00m \u001b[38;5;28mlen\u001b[39m(altchars) \u001b[38;5;241m==\u001b[39m \u001b[38;5;241m2\u001b[39m, \u001b[38;5;28mrepr\u001b[39m(altchars)\n",
      "\u001b[1;31mTypeError\u001b[0m: a bytes-like object is required, not 'str'"
     ]
    }
   ],
   "source": [
    "import base64\n",
    "encoded_data = base64.b64encode(\"lakshi onkar\")\n",
    "\n",
    "print(\"encoded text is\")\n",
    "print(encoded_data)"
   ]
  },
  {
   "cell_type": "code",
   "execution_count": 2,
   "id": "a90417b7",
   "metadata": {},
   "outputs": [
    {
     "name": "stdout",
     "output_type": "stream",
     "text": [
      "The cipher text is\n"
     ]
    },
    {
     "ename": "ImportError",
     "evalue": "cannot import name 'izip' from 'itertools' (unknown location)",
     "output_type": "error",
     "traceback": [
      "\u001b[1;31m---------------------------------------------------------------------------\u001b[0m",
      "\u001b[1;31mImportError\u001b[0m                               Traceback (most recent call last)",
      "Input \u001b[1;32mIn [2]\u001b[0m, in \u001b[0;36m<cell line: 15>\u001b[1;34m()\u001b[0m\n\u001b[0;32m     12\u001b[0m secrete_data \u001b[38;5;241m=\u001b[39m \u001b[38;5;124m\"\u001b[39m\u001b[38;5;124mXOR procedure\u001b[39m\u001b[38;5;124m\"\u001b[39m\n\u001b[0;32m     14\u001b[0m \u001b[38;5;28mprint\u001b[39m(\u001b[38;5;124m\"\u001b[39m\u001b[38;5;124mThe cipher text is\u001b[39m\u001b[38;5;124m\"\u001b[39m)\n\u001b[1;32m---> 15\u001b[0m \u001b[38;5;28mprint\u001b[39m(\u001b[43mxor_crypt_string\u001b[49m\u001b[43m(\u001b[49m\u001b[43msecrete_data\u001b[49m\u001b[43m,\u001b[49m\u001b[43m \u001b[49m\u001b[43mencode\u001b[49m\u001b[43m \u001b[49m\u001b[38;5;241;43m=\u001b[39;49m\u001b[43m \u001b[49m\u001b[38;5;28;43;01mTrue\u001b[39;49;00m\u001b[43m)\u001b[49m)\n\u001b[0;32m     16\u001b[0m \u001b[38;5;28mprint\u001b[39m(\u001b[38;5;124m\"\u001b[39m\u001b[38;5;124mThe plain text fetched\u001b[39m\u001b[38;5;124m\"\u001b[39m)\n\u001b[0;32m     17\u001b[0m \u001b[38;5;28mprint\u001b[39m(xor_crypt_string(xor_crypt_string(secrete_data,encode \u001b[38;5;241m=\u001b[39m \u001b[38;5;28;01mTrue\u001b[39;00m,decode \u001b[38;5;241m=\u001b[39m \u001b[38;5;28;01mTrue\u001b[39;00m)))\n",
      "Input \u001b[1;32mIn [2]\u001b[0m, in \u001b[0;36mxor_crypt_string\u001b[1;34m(data, key, encode, decode)\u001b[0m\n\u001b[0;32m      1\u001b[0m \u001b[38;5;28;01mdef\u001b[39;00m \u001b[38;5;21mxor_crypt_string\u001b[39m(data, key \u001b[38;5;241m=\u001b[39m \u001b[38;5;124m'\u001b[39m\u001b[38;5;124mawesomepassword\u001b[39m\u001b[38;5;124m'\u001b[39m,encode \u001b[38;5;241m=\u001b[39m \u001b[38;5;28;01mFalse\u001b[39;00m,decode \u001b[38;5;241m=\u001b[39m \u001b[38;5;28;01mFalse\u001b[39;00m):\n\u001b[1;32m----> 2\u001b[0m     \u001b[38;5;28;01mfrom\u001b[39;00m \u001b[38;5;21;01mitertools\u001b[39;00m \u001b[38;5;28;01mimport\u001b[39;00m izip, cycle\n\u001b[0;32m      3\u001b[0m     \u001b[38;5;28;01mimport\u001b[39;00m \u001b[38;5;21;01mbase64\u001b[39;00m\n\u001b[0;32m      5\u001b[0m     \u001b[38;5;28;01mif\u001b[39;00m decode:\n",
      "\u001b[1;31mImportError\u001b[0m: cannot import name 'izip' from 'itertools' (unknown location)"
     ]
    }
   ],
   "source": [
    "def xor_crypt_string(data, key = 'awesomepassword',encode = False,decode = False):\n",
    "    from itertools import izip, cycle\n",
    "    import base64\n",
    "    \n",
    "    if decode:\n",
    "        data = base64.decodestring(data)\n",
    "        xored = \"\".join(chr(ord(x)^ord(y)) for(x,y)in izip(data,cycle(key)))\n",
    "    if encode:\n",
    "        return base64.encodestring(xored).strip()\n",
    "    return xored\n",
    "\n",
    "secrete_data = \"XOR procedure\"\n",
    "\n",
    "print(\"The cipher text is\")\n",
    "print(xor_crypt_string(secrete_data, encode = True))\n",
    "print(\"The plain text fetched\")\n",
    "print(xor_crypt_string(xor_crypt_string(secrete_data,encode = True,decode = True)))"
   ]
  },
  {
   "cell_type": "code",
   "execution_count": null,
   "id": "32b7eb3f",
   "metadata": {},
   "outputs": [],
   "source": []
  }
 ],
 "metadata": {
  "kernelspec": {
   "display_name": "Python 3 (ipykernel)",
   "language": "python",
   "name": "python3"
  },
  "language_info": {
   "codemirror_mode": {
    "name": "ipython",
    "version": 3
   },
   "file_extension": ".py",
   "mimetype": "text/x-python",
   "name": "python",
   "nbconvert_exporter": "python",
   "pygments_lexer": "ipython3",
   "version": "3.9.12"
  }
 },
 "nbformat": 4,
 "nbformat_minor": 5
}
